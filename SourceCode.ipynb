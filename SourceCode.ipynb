{
  "nbformat": 4,
  "nbformat_minor": 0,
  "metadata": {
    "colab": {
      "name": "PatternAssignment.ipynb",
      "provenance": [],
      "collapsed_sections": [],
      "include_colab_link": true
    },
    "kernelspec": {
      "display_name": "Python [default]",
      "language": "python",
      "name": "python3"
    },
    "language_info": {
      "codemirror_mode": {
        "name": "ipython",
        "version": 3
      },
      "file_extension": ".py",
      "mimetype": "text/x-python",
      "name": "python",
      "nbconvert_exporter": "python",
      "pygments_lexer": "ipython3",
      "version": "3.6.8"
    }
  },
  "cells": [
    {
      "cell_type": "markdown",
      "metadata": {
        "id": "view-in-github",
        "colab_type": "text"
      },
      "source": [
        "<a href=\"https://colab.research.google.com/github/gnitish18/Pattern-Audio-Slides/blob/master/SourceCode.ipynb\" target=\"_parent\"><img src=\"https://colab.research.google.com/assets/colab-badge.svg\" alt=\"Open In Colab\"/></a>"
      ]
    },
    {
      "cell_type": "code",
      "metadata": {
        "colab_type": "code",
        "id": "GX7ICBnxHmwh",
        "colab": {}
      },
      "source": [
        "import numpy as np\n",
        "import matplotlib.pyplot as plt\n",
        "from matplotlib.legend_handler import HandlerLine2D\n",
        "\n",
        "DATA1 = np.matrix([[1.08,0.75,0.85,0.94,0.40,1.25,1.19,0.99,0.69,1.32],[0.08,-0.19,-0.11,0.01,-0.09,-0.21,0.07,0.04,-0.02,0.02]])\n",
        "DATA2 = np.matrix([[0.01,-0.01,0.09,-0.05,-0.45,0.07,-0.33,-0.06,-0.33,-0.24],[0.85,1.05,0.93,1.41,1.45,1.20,0.88,1.08,1.10,1.01]])\n",
        "\n",
        "data = np.matrix([[1.08,0.75,0.85,0.94,0.40,1.25,1.19,0.99,0.69,1.32,0.01,-0.01,0.09,-0.05,-0.45,0.07,-0.33,-0.06,-0.33,-0.24],[0.08,-0.19,-0.11,0.01,-0.09,-0.21,0.07,0.04,-0.02,0.02,0.85,1.05,0.93,1.41,1.45,1.20,0.88,1.08,1.10,1.01]])\n",
        "\n",
        "t1 = np.full((10),1)\n",
        "t2 = np.full((10),-1)\n",
        "t = np.append(t1,t2)\n",
        "t = t.reshape(-1, 20)"
      ],
      "execution_count": 0,
      "outputs": []
    },
    {
      "cell_type": "markdown",
      "metadata": {
        "id": "CgAc6KEmmHBp",
        "colab_type": "text"
      },
      "source": [
        "**Part 1**\n",
        "\n",
        "Kernel Function: $$ K(xi,xj) = (xi)^T(xj)$$"
      ]
    },
    {
      "cell_type": "code",
      "metadata": {
        "colab_type": "code",
        "id": "1IkikNiqHmwo",
        "colab": {}
      },
      "source": [
        "kernel_matrix = np.zeros((20,20))\n",
        "\n",
        "# Linear Kernel Matrices  \n",
        "def K(x1,x2,t1,t2):\n",
        "    output = np.matmul(x1.T,x2)\n",
        "    return output*t1*t2\n",
        "\n",
        "# Linear Kernel Function \n",
        "def krn(x1,x2):\n",
        "    output = np.matmul(x1.T,x2)\n",
        "    return output[0,0]\n"
      ],
      "execution_count": 0,
      "outputs": []
    },
    {
      "cell_type": "code",
      "metadata": {
        "colab_type": "code",
        "id": "oLsO6aGAHmwr",
        "colab": {}
      },
      "source": [
        "for i in range(20):\n",
        "    for j in range(20):\n",
        "        kernel_matrix[i,j] = K(data[:,i],data[:,j],t[:, i],t[:, j])\n",
        "kernel_matrix = np.concatenate((kernel_matrix, t), axis=0)"
      ],
      "execution_count": 0,
      "outputs": []
    },
    {
      "cell_type": "code",
      "metadata": {
        "colab_type": "code",
        "id": "LKUzl8gZHmwz",
        "colab": {}
      },
      "source": [
        "b = np.ones((21, 1))\n",
        "b[20] = 0\n",
        "\n",
        "x = np.linalg.pinv(kernel_matrix)\n",
        "\n",
        "a = np.matmul(x, b)\n",
        "# print(np.matmul(kernel_matrix,a))\n",
        "# print(a)"
      ],
      "execution_count": 0,
      "outputs": []
    },
    {
      "cell_type": "code",
      "metadata": {
        "colab_type": "code",
        "id": "ZIpjTngnINY7",
        "outputId": "eda62d36-8721-469a-a42e-fb6ac848975a",
        "colab": {
          "base_uri": "https://localhost:8080/",
          "height": 54
        }
      },
      "source": [
        "m1 = []\n",
        "M1 = []\n",
        "\n",
        "for i in range (20):\n",
        "  if a[i,0] > 0 and a[i,0] < 10:\n",
        "    m1.append(i)\n",
        "\n",
        "m2 = []\n",
        "for i in range (20):\n",
        "  if a[i,0] > 0 and a[i,0] < 10:\n",
        "    m2.append(i)\n",
        "\n",
        "for i in range (len(m1)):\n",
        "  M1.append(a[m1[i],0])\n",
        "\n",
        "print(M1)"
      ],
      "execution_count": 5,
      "outputs": [
        {
          "output_type": "stream",
          "text": [
            "[0.09562022458741647, 0.03183160773936618, 0.051099034279988895, 0.07008859227850905, 0.1137410919628345, 0.11344794247018417, 0.0793787901088289, 0.027759788406808632, 0.13320545919712373, 0.05468562885461885, 0.05111918065892555, 0.038722062918134084, 0.04536034602750523, 0.11006349635030008, 0.0327510066424998, 0.10982071280499112, 0.05834828584929598, 0.10226337312517661, 0.09048763936647947]\n"
          ],
          "name": "stdout"
        }
      ]
    },
    {
      "cell_type": "markdown",
      "metadata": {
        "id": "IZTJ1YEqmW1K",
        "colab_type": "text"
      },
      "source": [
        "Printing the set **M1**"
      ]
    },
    {
      "cell_type": "code",
      "metadata": {
        "colab_type": "code",
        "id": "eyq_s9i-OHLF",
        "outputId": "311d3d23-f977-465f-9e4b-84e912eaaa8b",
        "colab": {
          "base_uri": "https://localhost:8080/",
          "height": 51
        }
      },
      "source": [
        "w1=w2=0\n",
        "\n",
        "for i in range(len(m2)):\n",
        "  #print (data[0,m2[i]]) \n",
        "  w1 += a[m2[i],0]*t[0,m2[i]]*data[0,m2[i]] \n",
        "  w2 += a[m2[i],0]*t[0,m2[i]]*data[1,m2[i]]\n",
        "w = np.array([[w1],[w2]])\n",
        "\n",
        "print(w)"
      ],
      "execution_count": 6,
      "outputs": [
        {
          "output_type": "stream",
          "text": [
            "[[ 0.92839993]\n",
            " [-0.77654001]]\n"
          ],
          "name": "stdout"
        }
      ]
    },
    {
      "cell_type": "markdown",
      "metadata": {
        "id": "xwDPkH-cmozu",
        "colab_type": "text"
      },
      "source": [
        "Printing the weignt matrix, **W**"
      ]
    },
    {
      "cell_type": "code",
      "metadata": {
        "colab_type": "code",
        "id": "cVMtnopmQWHp",
        "outputId": "7740ad47-d1e1-4b37-e3ea-eae7f0ea4b11",
        "colab": {
          "base_uri": "https://localhost:8080/",
          "height": 34
        }
      },
      "source": [
        "si = sj = 0\n",
        "\n",
        "for i in range(len(m1)):\n",
        "  for j in range(len(m2)):\n",
        "    sj += a[m2[j],0]*t[0,m2[j]]*krn(data[:,j],data[:,i])\n",
        "  si += (t[0,m1[i]]-sj)\n",
        "  sj = 0\n",
        "b = si/len(m1)\n",
        "\n",
        "print(b)"
      ],
      "execution_count": 7,
      "outputs": [
        {
          "output_type": "stream",
          "text": [
            "0.04953690961144785\n"
          ],
          "name": "stdout"
        }
      ]
    },
    {
      "cell_type": "markdown",
      "metadata": {
        "id": "1sc3EFfXmvmd",
        "colab_type": "text"
      },
      "source": [
        "Printing the bias, **b**"
      ]
    },
    {
      "cell_type": "code",
      "metadata": {
        "colab_type": "code",
        "id": "r2xTKEqDeFXG",
        "outputId": "8137f463-9f26-4ddc-f2d3-1a897acd6db4",
        "colab": {
          "base_uri": "https://localhost:8080/",
          "height": 281
        }
      },
      "source": [
        "plt.plot(DATA1[0,:], DATA1[1,:], 'ro')\n",
        "plt.plot(DATA2[0,:], DATA2[1,:], 'bo')\n",
        "plt.title('Data')\n",
        "plt.show()"
      ],
      "execution_count": 8,
      "outputs": [
        {
          "output_type": "display_data",
          "data": {
            "image/png": "[encoded data removed]",
            "text/plain": [
              "<Figure size 432x288 with 1 Axes>"
            ]
          },
          "metadata": {
            "tags": []
          }
        }
      ]
    },
    {
      "cell_type": "markdown",
      "metadata": {
        "id": "UpZ_Uvkgm2qV",
        "colab_type": "text"
      },
      "source": [
        "Plotting the data"
      ]
    },
    {
      "cell_type": "code",
      "metadata": {
        "id": "mkK4p4VTltSP",
        "colab_type": "code",
        "outputId": "0a252f44-7b2a-45b2-aadd-49632f4ca8ef",
        "colab": {
          "base_uri": "https://localhost:8080/",
          "height": 335
        }
      },
      "source": [
        "a = -w[0] / w[1]\n",
        "xx = np.linspace(-1, 1.5)\n",
        "yy = a * xx - (b) / w[1]\n",
        "yy1 = a * xx - (1+b) / w[1]\n",
        "yy2 = a * xx - (-1+b) / w[1]\n",
        "\n",
        "plt.plot(DATA1[0, :], DATA1[1, :], 'ro')\n",
        "plt.plot(DATA2[0, :], DATA2[1, :], 'bs')\n",
        "\n",
        "ax = plt.subplot(111)\n",
        "ax.plot(xx, yy, 'k-', label = '(W.T)(X)+b = 0')\n",
        "ax.plot(xx, yy1, 'c--', label = '(W.T)(X)+b = 1')\n",
        "ax.plot(xx, yy2, 'm--', label = '(W.T)(X)+b = -1')\n",
        "ax.legend()\n",
        "\n",
        "plt.title('SVM')\n",
        "plt.show()"
      ],
      "execution_count": 9,
      "outputs": [
        {
          "output_type": "stream",
          "text": [
            "/usr/local/lib/python3.6/dist-packages/ipykernel_launcher.py:10: MatplotlibDeprecationWarning: Adding an axes using the same arguments as a previous axes currently reuses the earlier instance.  In a future version, a new instance will always be created and returned.  Meanwhile, this warning can be suppressed, and the future behavior ensured, by passing a unique label to each axes instance.\n",
            "  # Remove the CWD from sys.path while we load stuff.\n"
          ],
          "name": "stderr"
        },
        {
          "output_type": "display_data",
          "data": {
            "image/png": "[encoded data removed]",
            "text/plain": [
              "<Figure size 432x288 with 1 Axes>"
            ]
          },
          "metadata": {
            "tags": []
          }
        }
      ]
    },
    {
      "cell_type": "markdown",
      "metadata": {
        "id": "fDqgXPTMm8C3",
        "colab_type": "text"
      },
      "source": [
        "Plotting the lines $$W^TX+b$$"
      ]
    },
    {
      "cell_type": "code",
      "metadata": {
        "id": "NaUG27MU9wpq",
        "colab_type": "code",
        "outputId": "d455cf28-614e-4f48-9382-da5f772e54a7",
        "colab": {
          "base_uri": "https://localhost:8080/",
          "height": 400
        }
      },
      "source": [
        "\n",
        "test = np.matrix([[0.0083,0.08,0.06,1.13,1.21],[0.85,0.93,1.2,0.07,0.20]])\n",
        "print('Test Data:')\n",
        "print(test)\n",
        "\n",
        "y = np.matmul(w.T,test) \n",
        "# print(y)\n",
        "for i in range(len(y)):\n",
        "  y += b\n",
        "print('\\n Y values of the vectors:', end =\" \"), print(y)\n",
        "\n",
        "for i in range(5):\n",
        "  if y[0,i] > 0:\n",
        "    y[0,i] = 1\n",
        "  elif y[0,i] < 0:\n",
        "    y[0,i] = -1\n",
        "print('\\n Index of the vectors:', end =\" \"), print(y)\n",
        "\n",
        "bx = plt.subplot(111)\n",
        "bx.plot(xx, yy, 'k-', label = '(W.T)(X)+b = 0')\n",
        "bx.plot(xx, yy1, 'c--', label = '(W.T)(X)+b = 1')\n",
        "bx.plot(xx, yy2, 'm--', label = '(W.T)(X)+b = -1')\n",
        "bx.legend()\n",
        "\n",
        "plt.plot(test[0, :], test[1, :], 'go')\n",
        "\n",
        "plt.title('SVM')\n",
        "plt.show()"
      ],
      "execution_count": 10,
      "outputs": [
        {
          "output_type": "stream",
          "text": [
            "Test Data:\n",
            "[[0.0083 0.08   0.06   1.13   1.21  ]\n",
            " [0.85   0.93   1.2    0.07   0.2   ]]\n",
            "\n",
            " Y values of the vectors: [[-0.60281638 -0.59837331 -0.82660711  1.04427103  1.01759282]]\n",
            "\n",
            " Index of the vectors: [[-1. -1. -1.  1.  1.]]\n"
          ],
          "name": "stdout"
        },
        {
          "output_type": "display_data",
          "data": {
            "image/png": "[encoded data removed]",
            "text/plain": [
              "<Figure size 432x288 with 1 Axes>"
            ]
          },
          "metadata": {
            "tags": []
          }
        }
      ]
    },
    {
      "cell_type": "markdown",
      "metadata": {
        "id": "Q1svaqH0rAZ3",
        "colab_type": "text"
      },
      "source": [
        "Plotting and classifying the test data"
      ]
    },
    {
      "cell_type": "code",
      "metadata": {
        "id": "Rp7JcMGoqKw8",
        "colab_type": "code",
        "colab": {}
      },
      "source": [
        "# Part 2"
      ],
      "execution_count": 0,
      "outputs": []
    },
    {
      "cell_type": "markdown",
      "metadata": {
        "id": "eKYhWzDej3SJ",
        "colab_type": "text"
      },
      "source": [
        "**Part 2**\n",
        "\n",
        "Kernel Function: $$ K(xi,xj) = e^{-\\frac{(xi-xj)^T(xi-xj)}{(2\\sigma^2)}}$$"
      ]
    },
    {
      "cell_type": "code",
      "metadata": {
        "id": "blD9pzvFf8aQ",
        "colab_type": "code",
        "colab": {}
      },
      "source": [
        "kernel_matrix_2 = np.zeros((20,20))\n",
        "\n",
        "# Exponential/Gaussian Kernel Matrices\n",
        "def K_2(x1,x2,t1,t2):\n",
        "    output = np.exp(-1*np.matmul((x1-x2).T,(x1-x2))/2.0)\n",
        "    return output*t1*t2\n",
        "\n",
        "# Exponential/Gaussian Kernel Function\n",
        "def krn_2(x1,x2):\n",
        "    output = np.exp(-1*np.matmul((x1-x2).T,(x1-x2))/2.0)\n",
        "    return output[0,0]\n"
      ],
      "execution_count": 0,
      "outputs": []
    },
    {
      "cell_type": "code",
      "metadata": {
        "id": "Ry_B9MlOjuo0",
        "colab_type": "code",
        "colab": {}
      },
      "source": [
        "for i in range(20):\n",
        "    for j in range(20):\n",
        "        kernel_matrix_2[i,j] = K_2(data[:,i],data[:,j],t[:, i],t[:, j])\n",
        "kernel_matrix_2 = np.concatenate((kernel_matrix_2, t), axis=0)"
      ],
      "execution_count": 0,
      "outputs": []
    },
    {
      "cell_type": "code",
      "metadata": {
        "id": "2zQvSWdJqePM",
        "colab_type": "code",
        "colab": {}
      },
      "source": [
        "b_2 = np.ones((21, 1))\n",
        "b_2[20] = 0\n",
        "\n",
        "x_2 = np.linalg.pinv(kernel_matrix_2)\n",
        "\n",
        "a_2 = np.matmul(x_2, b_2)\n",
        "# print(np.matmul(kernel_matrix_2,a))\n",
        "# print(a)"
      ],
      "execution_count": 0,
      "outputs": []
    },
    {
      "cell_type": "code",
      "metadata": {
        "id": "g4588_AGqj5x",
        "colab_type": "code",
        "colab": {
          "base_uri": "https://localhost:8080/",
          "height": 54
        },
        "outputId": "796f473b-48f5-4194-ff29-82707fe29ada"
      },
      "source": [
        "m1_2 = []\n",
        "M1_2 = []\n",
        "\n",
        "for i in range (20):\n",
        "  if a_2[i,0] > 0:\n",
        "    m1_2.append(i)\n",
        "\n",
        "m2_2 = []\n",
        "for i in range (20):\n",
        "  if a_2[i,0] > 0:\n",
        "    m2_2.append(i)\n",
        "\n",
        "for i in range (len(m1_2)):\n",
        "  M1_2.append(a_2[m1_2[i],0])\n",
        "\n",
        "print(M1)"
      ],
      "execution_count": 15,
      "outputs": [
        {
          "output_type": "stream",
          "text": [
            "[0.09562022458741647, 0.03183160773936618, 0.051099034279988895, 0.07008859227850905, 0.1137410919628345, 0.11344794247018417, 0.0793787901088289, 0.027759788406808632, 0.13320545919712373, 0.05468562885461885, 0.05111918065892555, 0.038722062918134084, 0.04536034602750523, 0.11006349635030008, 0.0327510066424998, 0.10982071280499112, 0.05834828584929598, 0.10226337312517661, 0.09048763936647947]\n"
          ],
          "name": "stdout"
        }
      ]
    },
    {
      "cell_type": "markdown",
      "metadata": {
        "colab_type": "text",
        "id": "afFEJNw0vtug"
      },
      "source": [
        "Printing the set **M1**"
      ]
    },
    {
      "cell_type": "code",
      "metadata": {
        "id": "_wst3IynqmsO",
        "colab_type": "code",
        "colab": {
          "base_uri": "https://localhost:8080/",
          "height": 51
        },
        "outputId": "f2b3d54f-1540-44b4-9cc4-592e15f12398"
      },
      "source": [
        "w1_2=w2_2=0\n",
        "\n",
        "for i in range(len(m2_2)):\n",
        "  #print (data[0,m2[i]]) \n",
        "  w1_2 += a_2[m2_2[i],0]*t[0,m2_2[i]]*data[0,m2_2[i]] \n",
        "  w2_2 += a_2[m2_2[i],0]*t[0,m2_2[i]]*data[1,m2_2[i]]\n",
        "w_2 = np.array([[w1_2],[w2_2]])\n",
        "\n",
        "print(w_2)"
      ],
      "execution_count": 16,
      "outputs": [
        {
          "output_type": "stream",
          "text": [
            "[[233875.24978856]\n",
            " [-91063.44835496]]\n"
          ],
          "name": "stdout"
        }
      ]
    },
    {
      "cell_type": "markdown",
      "metadata": {
        "colab_type": "text",
        "id": "qX8BXJGtv66g"
      },
      "source": [
        "Printing the weignt matrix, **W**"
      ]
    },
    {
      "cell_type": "code",
      "metadata": {
        "id": "nfHTVeMfqqT1",
        "colab_type": "code",
        "colab": {
          "base_uri": "https://localhost:8080/",
          "height": 34
        },
        "outputId": "a7c87e39-8975-4cab-b88a-af2a8c7fc04b"
      },
      "source": [
        "si_2 = sj_2 = 0\n",
        "\n",
        "for i in range(len(m1_2)):\n",
        "  for j in range(len(m2_2)):\n",
        "    sj_2 += a_2[m2_2[j],0]*t[0,m2_2[j]]*krn_2(data[:,j],data[:,i])\n",
        "  si_2 += (t[0,m1_2[i]]-sj_2)\n",
        "  sj_2 = 0\n",
        "b_2 = si_2/len(m1_2)\n",
        "\n",
        "print(b_2)"
      ],
      "execution_count": 17,
      "outputs": [
        {
          "output_type": "stream",
          "text": [
            "-146106.56584627734\n"
          ],
          "name": "stdout"
        }
      ]
    },
    {
      "cell_type": "markdown",
      "metadata": {
        "colab_type": "text",
        "id": "vzfOSdqLv-yy"
      },
      "source": [
        "Printing the bias, **b**"
      ]
    },
    {
      "cell_type": "code",
      "metadata": {
        "id": "WBahj4GWqzIs",
        "colab_type": "code",
        "colab": {
          "base_uri": "https://localhost:8080/",
          "height": 335
        },
        "outputId": "57b84221-461d-48db-9e9e-a375cf2959e2"
      },
      "source": [
        "a_2 = -w_2[0] / w_2[1]\n",
        "xx_2 = np.linspace(-1, 1.5)\n",
        "yy_2 = a_2 * xx_2 - (b_2) / w_2[1]\n",
        "yy1_2 = a_2 * xx_2 - (1+b_2) / w_2[1]\n",
        "yy2_2 = a_2 * xx_2 - (-1+b_2) / w_2[1]\n",
        "\n",
        "plt.plot(DATA1[0, :], DATA1[1, :], 'ro')\n",
        "plt.plot(DATA2[0, :], DATA2[1, :], 'bs')\n",
        "\n",
        "ax = plt.subplot(111)\n",
        "ax.plot(xx_2, yy1_2, 'c--', label = '(W.T)(X)+b = 1')\n",
        "ax.plot(xx_2, yy2_2, 'm--', label = '(W.T)(X)+b = -1')\n",
        "ax.plot(xx_2, yy_2, 'k-', label = '(W.T)(X)+b = 0')\n",
        "ax.legend()\n",
        "\n",
        "plt.title('SVM')\n",
        "plt.show()"
      ],
      "execution_count": 18,
      "outputs": [
        {
          "output_type": "stream",
          "text": [
            "/usr/local/lib/python3.6/dist-packages/ipykernel_launcher.py:10: MatplotlibDeprecationWarning: Adding an axes using the same arguments as a previous axes currently reuses the earlier instance.  In a future version, a new instance will always be created and returned.  Meanwhile, this warning can be suppressed, and the future behavior ensured, by passing a unique label to each axes instance.\n",
            "  # Remove the CWD from sys.path while we load stuff.\n"
          ],
          "name": "stderr"
        },
        {
          "output_type": "display_data",
          "data": {
            "image/png": "[encoded data removed]",
            "text/plain": [
              "<Figure size 432x288 with 1 Axes>"
            ]
          },
          "metadata": {
            "tags": []
          }
        }
      ]
    },
    {
      "cell_type": "markdown",
      "metadata": {
        "colab_type": "text",
        "id": "fiU9V66NvyvH"
      },
      "source": [
        "Plotting the lines $$W^TX+b$$\n",
        "\n",
        "The data is misclassified here. Hence the kernel function used here is inappropriate for this case.\n",
        "Also, the three hyper planes are too close as +1 or -1 is too small compared to the value of the bias"
      ]
    },
    {
      "cell_type": "code",
      "metadata": {
        "id": "fc6vSrLysayW",
        "colab_type": "code",
        "colab": {
          "base_uri": "https://localhost:8080/",
          "height": 400
        },
        "outputId": "f6ad1eb6-9961-4b92-e516-12fa1328b192"
      },
      "source": [
        "test = np.matrix([[0.0083,0.08,0.06,1.13,1.21],[0.85,0.93,1.2,0.07,0.20]])\n",
        "print('Test Data:')\n",
        "print(test)\n",
        "\n",
        "y_2 = np.matmul(w_2.T,test) \n",
        "# print(y)\n",
        "for i in range(len(y)):\n",
        "  y_2 += b_2\n",
        "print('\\n Y values of the vectors:', end =\" \"), print(y)\n",
        "\n",
        "for i in range(5):\n",
        "  if y_2[0,i] > 0:\n",
        "    y_2[0,i] = 1\n",
        "  elif y_2[0,i] < 0:\n",
        "    y_2[0,i] = -1\n",
        "print('\\n Index of the vectors:', end =\" \"), print(y)\n",
        "\n",
        "bx = plt.subplot(111)\n",
        "bx.plot(xx_2, yy1_2, 'c--', label = '(W.T)(X)+b = 1')\n",
        "bx.plot(xx_2, yy2_2, 'm--', label = '(W.T)(X)+b = -1')\n",
        "bx.plot(xx_2, yy_2, 'k-', label = '(W.T)(X)+b = 0')\n",
        "bx.legend()\n",
        "\n",
        "plt.plot(test[0, :], test[1, :], 'go')\n",
        "\n",
        "plt.title('SVM')\n",
        "plt.show()"
      ],
      "execution_count": 19,
      "outputs": [
        {
          "output_type": "stream",
          "text": [
            "Test Data:\n",
            "[[0.0083 0.08   0.06   1.13   1.21  ]\n",
            " [0.85   0.93   1.2    0.07   0.2   ]]\n",
            "\n",
            " Y values of the vectors: [[-1. -1. -1.  1.  1.]]\n",
            "\n",
            " Index of the vectors: [[-1. -1. -1.  1.  1.]]\n"
          ],
          "name": "stdout"
        },
        {
          "output_type": "display_data",
          "data": {
            "image/png": "[encoded data removed]",
            "text/plain": [
              "<Figure size 432x288 with 1 Axes>"
            ]
          },
          "metadata": {
            "tags": []
          }
        }
      ]
    },
    {
      "cell_type": "markdown",
      "metadata": {
        "colab_type": "text",
        "id": "D1eSQwjdvjzB"
      },
      "source": [
        "Plotting the test data using this classifier"
      ]
    }
  ]
}