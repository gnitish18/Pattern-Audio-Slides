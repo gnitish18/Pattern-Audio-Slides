{
  "nbformat": 4,
  "nbformat_minor": 0,
  "metadata": {
    "colab": {
      "name": "PatternAssignment.ipynb",
      "provenance": [],
      "collapsed_sections": [],
      "include_colab_link": true
    },
    "kernelspec": {
      "display_name": "Python [default]",
      "language": "python",
      "name": "python3"
    },
    "language_info": {
      "codemirror_mode": {
        "name": "ipython",
        "version": 3
      },
      "file_extension": ".py",
      "mimetype": "text/x-python",
      "name": "python",
      "nbconvert_exporter": "python",
      "pygments_lexer": "ipython3",
      "version": "3.6.8"
    }
  },
  "cells": [
    {
      "cell_type": "markdown",
      "metadata": {
        "id": "view-in-github",
        "colab_type": "text"
      },
      "source": [
        "<a href=\"https://colab.research.google.com/github/gnitish18/Pattern-Audio-Slides/blob/master/SourceCode.ipynb\" target=\"_parent\"><img src=\"https://colab.research.google.com/assets/colab-badge.svg\" alt=\"Open In Colab\"/></a>"
      ]
    },
    {
      "cell_type": "code",
      "metadata": {
        "colab_type": "code",
        "id": "GX7ICBnxHmwh",
        "colab": {}
      },
      "source": [
        "import numpy as np\n",
        "import matplotlib.pyplot as plt\n",
        "\n",
        "DATA1 = np.matrix([[1.08,0.75,0.85,0.94,0.40,1.25,1.19,0.99,0.69,1.32],[0.08,-0.19,-0.11,0.01,-0.09,-0.21,0.07,0.04,-0.02,0.02]])\n",
        "DATA2 = np.matrix([[0.01,-0.01,0.09,-0.05,-0.45,0.07,-0.33,-0.06,-0.33,-0.24],[0.85,1.05,0.93,1.41,1.45,1.20,0.88,1.08,1.10,1.01]])\n",
        "\n",
        "data = np.matrix([[1.08,0.75,0.85,0.94,0.40,1.25,1.19,0.99,0.69,1.32,0.01,-0.01,0.09,-0.05,-0.45,0.07,-0.33,-0.06,-0.33,-0.24],[0.08,-0.19,-0.11,0.01,-0.09,-0.21,0.07,0.04,-0.02,0.02,0.85,1.05,0.93,1.41,1.45,1.20,0.88,1.08,1.10,1.01]])\n",
        "\n",
        "t1 = np.full((10),1)\n",
        "t2 = np.full((10),-1)\n",
        "t = np.append(t1,t2)\n",
        "t = t.reshape(-1, 20)"
      ],
      "execution_count": 0,
      "outputs": []
    },
    {
      "cell_type": "code",
      "metadata": {
        "colab_type": "code",
        "id": "1IkikNiqHmwo",
        "colab": {}
      },
      "source": [
        "kernel_matrix = np.zeros((20,20))\n",
        "\"\"\"\n",
        "def K(x1,x2,t1,t2):\n",
        "    output = np.exp(-np.matmul((x1-x2).T,(x1-x2))/2.0)\n",
        "    return output*t1*t2\n",
        "\n",
        "def krn(x1,x2):\n",
        "    output = np.exp(-np.matmul((x1-x2).T,(x1-x2))/2.0)\n",
        "    return output[0,0]\n",
        "\"\"\"\n",
        "def K(x1,x2,t1,t2):\n",
        "    output = np.matmul(x1.T,x2)\n",
        "    return output*t1*t2\n",
        "\n",
        "def krn(x1,x2):\n",
        "    output = np.matmul(x1.T,x2)\n",
        "    return output[0,0]\n"
      ],
      "execution_count": 0,
      "outputs": []
    },
    {
      "cell_type": "code",
      "metadata": {
        "colab_type": "code",
        "id": "oLsO6aGAHmwr",
        "colab": {}
      },
      "source": [
        "for i in range(20):\n",
        "    for j in range(20):\n",
        "        kernel_matrix[i,j] = K(data[:,i],data[:,j],t[:, i],t[:, j])\n",
        "kernel_matrix = np.concatenate((kernel_matrix, t), axis=0)"
      ],
      "execution_count": 0,
      "outputs": []
    },
    {
      "cell_type": "code",
      "metadata": {
        "colab_type": "code",
        "id": "LKUzl8gZHmwz",
        "colab": {}
      },
      "source": [
        "b = np.ones((21, 1))\n",
        "b[20] = 0\n",
        "\n",
        "x = np.linalg.pinv(kernel_matrix)\n",
        "\n",
        "a = np.matmul(x, b)\n",
        "# print(np.matmul(kernel_matrix,a))\n",
        "# print(a)"
      ],
      "execution_count": 0,
      "outputs": []
    },
    {
      "cell_type": "code",
      "metadata": {
        "colab_type": "code",
        "id": "ZIpjTngnINY7",
        "colab": {
          "base_uri": "https://localhost:8080/",
          "height": 54
        },
        "outputId": "1ed72bce-a86e-469e-8ab3-98a509437d8b"
      },
      "source": [
        "m1 = []\n",
        "M1 = []\n",
        "\n",
        "for i in range (20):\n",
        "  if a[i,0] > 0 and a[i,0] < 10:\n",
        "    m1.append(i)\n",
        "\n",
        "m2 = []\n",
        "for i in range (20):\n",
        "  if a[i,0] > 0:\n",
        "    m2.append(i)\n",
        "\n",
        "for i in range (len(m1)):\n",
        "  M1.append(a[m1[i],0])\n",
        "\n",
        "print(M1)"
      ],
      "execution_count": 36,
      "outputs": [
        {
          "output_type": "stream",
          "text": [
            "[0.09562022458741647, 0.03183160773936618, 0.051099034279988895, 0.07008859227850905, 0.1137410919628345, 0.11344794247018417, 0.0793787901088289, 0.027759788406808632, 0.13320545919712373, 0.05468562885461885, 0.05111918065892555, 0.038722062918134084, 0.04536034602750523, 0.11006349635030008, 0.0327510066424998, 0.10982071280499112, 0.05834828584929598, 0.10226337312517661, 0.09048763936647947]\n"
          ],
          "name": "stdout"
        }
      ]
    },
    {
      "cell_type": "code",
      "metadata": {
        "colab_type": "code",
        "id": "eyq_s9i-OHLF",
        "colab": {
          "base_uri": "https://localhost:8080/",
          "height": 51
        },
        "outputId": "6d4f3809-f465-4500-e44b-e082f29dd46f"
      },
      "source": [
        "w1=w2=0\n",
        "\n",
        "for i in range(len(m2)):\n",
        "  #print (data[0,m2[i]]) \n",
        "  w1 += a[m2[i],0]*t[0,m2[i]]*data[0,m2[i]] \n",
        "  w2 += a[m2[i],0]*t[0,m2[i]]*data[1,m2[i]]\n",
        "w = np.array([[w1],[w2]])\n",
        "\n",
        "print(w)"
      ],
      "execution_count": 37,
      "outputs": [
        {
          "output_type": "stream",
          "text": [
            "[[ 0.92839993]\n",
            " [-0.77654001]]\n"
          ],
          "name": "stdout"
        }
      ]
    },
    {
      "cell_type": "code",
      "metadata": {
        "colab_type": "code",
        "id": "cVMtnopmQWHp",
        "colab": {
          "base_uri": "https://localhost:8080/",
          "height": 34
        },
        "outputId": "732d6d57-e024-4a6e-fbf6-1af42e24c365"
      },
      "source": [
        "si = sj = 0\n",
        "for i in range(len(m1)):\n",
        "  for j in range(len(m2)):\n",
        "    \n",
        "    sj += a[m2[j],0]*t[0,m2[j]]*krn(data[:,j],data[:,i])\n",
        "  si += (t[0,m1[i]]-sj)\n",
        "  sj = 0\n",
        "b = si/len(m1)\n",
        "\n",
        "print(b)"
      ],
      "execution_count": 38,
      "outputs": [
        {
          "output_type": "stream",
          "text": [
            "0.04953690961144785\n"
          ],
          "name": "stdout"
        }
      ]
    },
    {
      "cell_type": "code",
      "metadata": {
        "colab_type": "code",
        "id": "r2xTKEqDeFXG",
        "colab": {
          "base_uri": "https://localhost:8080/",
          "height": 265
        },
        "outputId": "36cb7937-9938-48a6-bf46-05e2e7c9d697"
      },
      "source": [
        "plt.plot(DATA1[0,:], DATA1[1,:], 'ro')\n",
        "plt.plot(DATA2[0,:], DATA2[1,:], 'bo')\n",
        "plt.show()"
      ],
      "execution_count": 18,
      "outputs": [
        {
          "output_type": "display_data",
          "data": {
            "image/png": "[encoded data removed]",
            "text/plain": [
              "<Figure size 432x288 with 1 Axes>"
            ]
          },
          "metadata": {
            "tags": []
          }
        }
      ]
    },
    {
      "cell_type": "code",
      "metadata": {
        "id": "mkK4p4VTltSP",
        "colab_type": "code",
        "outputId": "85125cbe-b7de-4d62-edab-a01a4aba5a10",
        "colab": {
          "base_uri": "https://localhost:8080/",
          "height": 265
        }
      },
      "source": [
        "a = -w[0] / w[1]\n",
        "xx = np.linspace(-1, 1.5)\n",
        "yy = a * xx - (b) / w[1]\n",
        "yy1 = a * xx - (1+b) / w[1]\n",
        "yy2 = a * xx - (-1+b) / w[1]\n",
        "\n",
        "plt.plot(xx, yy, 'k-')\n",
        "plt.plot(xx, yy1, 'r--')\n",
        "plt.plot(xx, yy2, 'c--')\n",
        "plt.plot(DATA1[0, :], DATA1[1, :], 'mo')\n",
        "plt.plot(DATA2[0, :], DATA2[1, :], 'bo')\n",
        "plt.show()"
      ],
      "execution_count": 51,
      "outputs": [
        {
          "output_type": "display_data",
          "data": {
            "image/png": "[encoded data removed]",
            "text/plain": [
              "<Figure size 432x288 with 1 Axes>"
            ]
          },
          "metadata": {
            "tags": []
          }
        }
      ]
    }
  ]
}